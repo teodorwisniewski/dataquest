{
 "cells": [
  {
   "cell_type": "code",
   "execution_count": 12,
   "metadata": {},
   "outputs": [],
   "source": [
    "import psycopg2\n",
    "import csv\n",
    "import os\n",
    "import pandas as pd\n",
    "import numpy as np\n"
   ]
  },
  {
   "cell_type": "code",
   "execution_count": 13,
   "metadata": {},
   "outputs": [],
   "source": [
    "\n",
    "csv_file_name = 'updated_sample_submission.csv'\n",
    "hostname = os.environ.get('HOST_POSTGRES')\n",
    "username = os.environ.get('DB_USER')\n",
    "password = os.environ.get('DB_PASS') #\n",
    "database = os.environ.get('DATABASE_NAME_POSTGRES')\n",
    "schema_name = 'public'\n",
    "table_name = 'updated_sample_submission'\n"
   ]
  },
  {
   "cell_type": "code",
   "execution_count": 14,
   "metadata": {},
   "outputs": [],
   "source": [
    "conn = psycopg2.connect( host=hostname, user=username, password=password, dbname=database )"
   ]
  },
  {
   "cell_type": "code",
   "execution_count": 15,
   "metadata": {},
   "outputs": [],
   "source": [
    "row_values = { \n",
    "    'identifier': 1, \n",
    "    'mail': 'adam.smith@dataquest.io',\n",
    "    'name': 'Adam Smith', \n",
    "    'address': '42 Fake Street'\n",
    "}"
   ]
  },
  {
   "cell_type": "code",
   "execution_count": 16,
   "metadata": {},
   "outputs": [],
   "source": [
    "cur = conn.cursor()\n",
    "placeholders = ', '.join(['%('+val+')s' for val in row_values])\n",
    "cur.execute(f\"\"\"\n",
    "    INSERT INTO users VALUES (\n",
    "    {placeholders}\n",
    "    )\"\"\",row_values)\n",
    "conn.commit()\n",
    "conn.close()\n"
   ]
  },
  {
   "cell_type": "code",
   "execution_count": 17,
   "metadata": {},
   "outputs": [
    {
     "data": {
      "text/plain": "'%(identifier)s, %(mail)s, %(name)s, %(address)s'"
     },
     "execution_count": 17,
     "metadata": {},
     "output_type": "execute_result"
    }
   ],
   "source": [
    "placeholders"
   ]
  },
  {
   "cell_type": "code",
   "execution_count": 18,
   "metadata": {
    "pycharm": {
     "name": "#%%\n"
    }
   },
   "outputs": [
    {
     "data": {
      "text/plain": "[(\" 'adam.smith@dataquest.io'\",),\n ('adam.smith@dataquest.io',),\n ('adam.smith@dataquest.io',),\n ('adam.smith@dataquest.io',),\n ('adam.smith@dataquest.io',),\n ('adam.smith@dataquest.io',)]"
     },
     "execution_count": 18,
     "metadata": {},
     "output_type": "execute_result"
    }
   ],
   "source": [
    "def get_email(name):\n",
    "    cur = conn.cursor()\n",
    "    # create the query string using the format function\n",
    "    query_string = \"SELECT email FROM users WHERE name = '\" + name + \"';\"\n",
    "    # execute the query\n",
    "    cur.execute(query_string)\n",
    "    res = cur.fetchall()\n",
    "    conn.close()\n",
    "    return res\n",
    "# add you code below\n",
    "conn = psycopg2.connect( host=hostname, user=username, password=password, dbname=database )\n",
    "\n",
    "fake_name = \"JAnusz' OR 0=0; --\"\n",
    "all_emails = get_email(fake_name)\n",
    "all_emails\n",
    "\n"
   ]
  },
  {
   "cell_type": "code",
   "execution_count": null,
   "outputs": [],
   "source": [],
   "metadata": {
    "collapsed": false,
    "pycharm": {
     "name": "#%%\n"
    }
   }
  },
  {
   "cell_type": "code",
   "execution_count": null,
   "outputs": [],
   "source": [],
   "metadata": {
    "collapsed": false,
    "pycharm": {
     "name": "#%%\n"
    }
   }
  },
  {
   "cell_type": "code",
   "execution_count": null,
   "outputs": [],
   "source": [],
   "metadata": {
    "collapsed": false,
    "pycharm": {
     "name": "#%%\n"
    }
   }
  }
 ],
 "metadata": {
  "kernelspec": {
   "display_name": "my_scripts_env",
   "language": "python",
   "name": "my_scripts_env"
  },
  "language_info": {
   "codemirror_mode": {
    "name": "ipython",
    "version": 3
   },
   "file_extension": ".py",
   "mimetype": "text/x-python",
   "name": "python",
   "nbconvert_exporter": "python",
   "pygments_lexer": "ipython3",
   "version": "3.8.3"
  }
 },
 "nbformat": 4,
 "nbformat_minor": 4
}